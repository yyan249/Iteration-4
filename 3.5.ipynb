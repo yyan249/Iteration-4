{
 "cells": [
  {
   "cell_type": "code",
   "execution_count": 1,
   "id": "43cf12c3",
   "metadata": {},
   "outputs": [
    {
     "name": "stderr",
     "output_type": "stream",
     "text": [
      "WARNING: An illegal reflective access operation has occurred\n",
      "WARNING: Illegal reflective access by org.apache.spark.unsafe.Platform (file:/home/ubuntu/spark-3.2.1-bin-hadoop2.7/jars/spark-unsafe_2.12-3.2.1.jar) to constructor java.nio.DirectByteBuffer(long,int)\n",
      "WARNING: Please consider reporting this to the maintainers of org.apache.spark.unsafe.Platform\n",
      "WARNING: Use --illegal-access=warn to enable warnings of further illegal reflective access operations\n",
      "WARNING: All illegal access operations will be denied in a future release\n",
      "Using Spark's default log4j profile: org/apache/spark/log4j-defaults.properties\n",
      "Setting default log level to \"WARN\".\n",
      "To adjust logging level use sc.setLogLevel(newLevel). For SparkR, use setLogLevel(newLevel).\n",
      "22/10/12 22:34:09 WARN NativeCodeLoader: Unable to load native-hadoop library for your platform... using builtin-java classes where applicable\n"
     ]
    }
   ],
   "source": [
    "import findspark\n",
    "findspark.init('/home/ubuntu/spark-3.2.1-bin-hadoop2.7')\n",
    "import pyspark\n",
    "from pyspark.sql import SparkSession\n",
    "spark = SparkSession.builder.appName('BDAS').getOrCreate()"
   ]
  },
  {
   "cell_type": "code",
   "execution_count": 2,
   "id": "11fe5a8c",
   "metadata": {},
   "outputs": [
    {
     "name": "stderr",
     "output_type": "stream",
     "text": [
      "WARNING:root:'PYARROW_IGNORE_TIMEZONE' environment variable was not set. It is required to set this environment variable to '1' in both driver and executor sides if you use pyarrow>=2.0.0. pandas-on-Spark will set it for you but it does not work if there is a Spark context already launched.\n"
     ]
    }
   ],
   "source": [
    "import findspark\n",
    "import pyspark.pandas as ps"
   ]
  },
  {
   "cell_type": "code",
   "execution_count": 5,
   "id": "212cfc50",
   "metadata": {},
   "outputs": [
    {
     "name": "stderr",
     "output_type": "stream",
     "text": [
      "\r",
      "[Stage 0:>                                                          (0 + 1) / 1]\r",
      "\r",
      "                                                                                \r"
     ]
    }
   ],
   "source": [
    "df = ps.read_csv('textdata.csv')"
   ]
  },
  {
   "cell_type": "code",
   "execution_count": 7,
   "id": "15a1c9bd",
   "metadata": {},
   "outputs": [],
   "source": [
    "Departure_Delay_list = []\n",
    "for x in df['Departure Delay in Minutes']:\n",
    "    if x< 45:\n",
    "        Departure_Delay_list.append('0')\n",
    "    elif x>= 45:\n",
    "        Departure_Delay_list.append('1')\n",
    "df['Departure_Delay'] = Departure_Delay_list"
   ]
  },
  {
   "cell_type": "code",
   "execution_count": 8,
   "id": "22862080",
   "metadata": {},
   "outputs": [],
   "source": [
    "Arrival_Delay_list = []\n",
    "for x in df['Arrival Delay in Minutes']:\n",
    "    if x< 45:\n",
    "        Arrival_Delay_list.append('0')\n",
    "    elif x>= 45:\n",
    "        Arrival_Delay_list.append('1')\n",
    "df['Arrival_Delay'] = Arrival_Delay_list"
   ]
  },
  {
   "cell_type": "code",
   "execution_count": 9,
   "id": "d891a560",
   "metadata": {},
   "outputs": [],
   "source": [
    "df.rename(columns = {'Customer Type':'Customer_Type', 'Type of Travel':'Type_of_Travel'}, inplace = True)"
   ]
  },
  {
   "cell_type": "code",
   "execution_count": 10,
   "id": "164b4354",
   "metadata": {},
   "outputs": [],
   "source": [
    "df.satisfaction.replace({\"neutral or dissatisfied\":0,\"satisfied\":1}, inplace= True)\n",
    "df.Gender.replace({\"Male\":0,\"Female\":1}, inplace= True)\n",
    "df.Customer_Type.replace({\"disloyal Customer\":0,\"Loyal Customer\":1}, inplace= True)\n",
    "df.Type_of_Travel.replace({\"Business travel\":0,\"Personal Travel\":1}, inplace= True)\n",
    "df.Class.replace({\"Eco\":0,\"Eco Plus\":1,'Business':2}, inplace= True)"
   ]
  },
  {
   "cell_type": "code",
   "execution_count": 11,
   "id": "ce843f2e",
   "metadata": {},
   "outputs": [
    {
     "name": "stdout",
     "output_type": "stream",
     "text": [
      "    Unnamed: 0  Gender  Customer_Type  Type_of_Travel  Class  Flight Distance  \\\n",
      "9            9       1              1               0      0             1235   \n",
      "10          10       1              1               0      2              325   \n",
      "11          11       1              1               0      2             1009   \n",
      "12          12       1              1               0      2              451   \n",
      "13          13       1              1               0      2              925   \n",
      "14          14       0              1               1      0               83   \n",
      "15          15       1              1               0      0              728   \n",
      "16          16       0              1               1      1             1075   \n",
      "17          17       1              1               1      0             1927   \n",
      "18          18       1              1               0      2             3799   \n",
      "19          19       0              1               0      2              612   \n",
      "\n",
      "    Inflight wifi service  Departure/Arrival time convenient  \\\n",
      "9                       4                                  1   \n",
      "10                      2                                  5   \n",
      "11                      5                                  5   \n",
      "12                      1                                  1   \n",
      "13                      2                                  2   \n",
      "14                      3                                  4   \n",
      "15                      2                                  5   \n",
      "16                      5                                  4   \n",
      "17                      3                                  4   \n",
      "18                      5                                  5   \n",
      "19                      4                                  4   \n",
      "\n",
      "    Ease of Online booking  Gate location  ...  Leg room service  \\\n",
      "9                        1              1  ...                 4   \n",
      "10                       5              5  ...                 2   \n",
      "11                       5              5  ...                 5   \n",
      "12                       4              1  ...                 5   \n",
      "13                       2              2  ...                 4   \n",
      "14                       0              3  ...                 2   \n",
      "15                       5              5  ...                 3   \n",
      "16                       5              3  ...                 5   \n",
      "17                       3              1  ...                 3   \n",
      "18                       5              5  ...                 5   \n",
      "19                       4              4  ...                 5   \n",
      "\n",
      "    Baggage handling  Checkin service  Inflight service  Cleanliness  \\\n",
      "9                  3                1                 3            4   \n",
      "10                 2                3                 2            4   \n",
      "11                 5                5                 5            3   \n",
      "12                 5                3                 5            5   \n",
      "13                 4                3                 4            5   \n",
      "14                 4                4                 5            2   \n",
      "15                 3                4                 3            2   \n",
      "16                 5                4                 5            4   \n",
      "17                 5                4                 5            3   \n",
      "18                 4                5                 4            5   \n",
      "19                 5                5                 5            5   \n",
      "\n",
      "    Departure Delay in Minutes  Arrival Delay in Minutes  Departure_Delay  \\\n",
      "9                           29                        19                0   \n",
      "10                          18                         7                0   \n",
      "11                           0                         0                0   \n",
      "12                         117                       113                1   \n",
      "13                          10                         0                0   \n",
      "14                           5                         2                0   \n",
      "15                           2                         0                0   \n",
      "16                           0                         0                0   \n",
      "17                           0                         0                0   \n",
      "18                           8                         0                0   \n",
      "19                          21                        49                0   \n",
      "\n",
      "    satisfaction  Arrival_Delay  \n",
      "9              1              0  \n",
      "10             0              0  \n",
      "11             1              0  \n",
      "12             1              1  \n",
      "13             1              0  \n",
      "14             0              0  \n",
      "15             0              0  \n",
      "16             1              0  \n",
      "17             0              0  \n",
      "18             1              0  \n",
      "19             1              1  \n",
      "\n",
      "[11 rows x 25 columns]\n"
     ]
    }
   ],
   "source": [
    "print(df[9:20])"
   ]
  },
  {
   "cell_type": "code",
   "execution_count": 12,
   "id": "d92e8633",
   "metadata": {},
   "outputs": [
    {
     "data": {
      "text/plain": [
       "Unnamed: 0                            int64\n",
       "Gender                                int64\n",
       "Customer_Type                         int64\n",
       "Type_of_Travel                        int64\n",
       "Class                                 int64\n",
       "Flight Distance                       int64\n",
       "Inflight wifi service                 int64\n",
       "Departure/Arrival time convenient     int64\n",
       "Ease of Online booking                int64\n",
       "Gate location                         int64\n",
       "Food and drink                        int64\n",
       "Online boarding                       int64\n",
       "Seat comfort                          int64\n",
       "Inflight entertainment                int64\n",
       "On-board service                      int64\n",
       "Leg room service                      int64\n",
       "Baggage handling                      int64\n",
       "Checkin service                       int64\n",
       "Inflight service                      int64\n",
       "Cleanliness                           int64\n",
       "Departure Delay in Minutes            int64\n",
       "Arrival Delay in Minutes              int64\n",
       "Departure_Delay                      object\n",
       "satisfaction                          int64\n",
       "Arrival_Delay                        object\n",
       "dtype: object"
      ]
     },
     "execution_count": 12,
     "metadata": {},
     "output_type": "execute_result"
    }
   ],
   "source": [
    "df.dtypes"
   ]
  },
  {
   "cell_type": "code",
   "execution_count": 13,
   "id": "3d230d6d",
   "metadata": {},
   "outputs": [],
   "source": [
    "df = df.drop(['Unnamed: 0'],axis=1)"
   ]
  },
  {
   "cell_type": "code",
   "execution_count": 15,
   "id": "4d7b6036",
   "metadata": {},
   "outputs": [
    {
     "data": {
      "text/plain": [
       "Gender                                int64\n",
       "Customer_Type                         int64\n",
       "Type_of_Travel                        int64\n",
       "Class                                 int64\n",
       "Flight Distance                       int64\n",
       "Inflight wifi service                 int64\n",
       "Departure/Arrival time convenient     int64\n",
       "Ease of Online booking                int64\n",
       "Gate location                         int64\n",
       "Food and drink                        int64\n",
       "Online boarding                       int64\n",
       "Seat comfort                          int64\n",
       "Inflight entertainment                int64\n",
       "On-board service                      int64\n",
       "Leg room service                      int64\n",
       "Baggage handling                      int64\n",
       "Checkin service                       int64\n",
       "Inflight service                      int64\n",
       "Cleanliness                           int64\n",
       "Departure Delay in Minutes            int64\n",
       "Arrival Delay in Minutes              int64\n",
       "Departure_Delay                      object\n",
       "satisfaction                          int64\n",
       "Arrival_Delay                        object\n",
       "dtype: object"
      ]
     },
     "execution_count": 15,
     "metadata": {},
     "output_type": "execute_result"
    }
   ],
   "source": [
    "df.dtypes"
   ]
  },
  {
   "cell_type": "code",
   "execution_count": 16,
   "id": "11ca825c",
   "metadata": {},
   "outputs": [],
   "source": [
    "df.to_csv('textdata.csv')"
   ]
  },
  {
   "cell_type": "code",
   "execution_count": null,
   "id": "b10531f1",
   "metadata": {},
   "outputs": [],
   "source": []
  },
  {
   "cell_type": "code",
   "execution_count": null,
   "id": "cea95087",
   "metadata": {},
   "outputs": [],
   "source": []
  }
 ],
 "metadata": {
  "kernelspec": {
   "display_name": "Python 3 (ipykernel)",
   "language": "python",
   "name": "python3"
  },
  "language_info": {
   "codemirror_mode": {
    "name": "ipython",
    "version": 3
   },
   "file_extension": ".py",
   "mimetype": "text/x-python",
   "name": "python",
   "nbconvert_exporter": "python",
   "pygments_lexer": "ipython3",
   "version": "3.10.4"
  }
 },
 "nbformat": 4,
 "nbformat_minor": 5
}
