{
 "cells": [
  {
   "cell_type": "code",
   "execution_count": null,
   "id": "43cf12c3",
   "metadata": {},
   "outputs": [],
   "source": [
    "import findspark\n",
    "findspark.init('/home/ubuntu/spark-3.2.1-bin-hadoop2.7')\n",
    "import pyspark\n",
    "from pyspark.sql import SparkSession\n",
    "spark = SparkSession.builder.appName('BDAS').getOrCreate()\n",
    "import pandas as pd\n",
    "import seaborn as sns\n",
    "import matplotlib.pyplot as plt\n",
    "import numpy as np\n",
    "import pyspark.pandas as ps"
   ]
  },
  {
   "cell_type": "code",
   "execution_count": null,
   "id": "212cfc50",
   "metadata": {},
   "outputs": [],
   "source": [
    "df = spark.read.csv('textdata.csv', header=True, inferSchema=True)"
   ]
  },
  {
   "cell_type": "code",
   "execution_count": null,
   "id": "72045c83",
   "metadata": {},
   "outputs": [],
   "source": [
    "df.printSchema()"
   ]
  },
  {
   "cell_type": "code",
   "execution_count": null,
   "id": "e207e392",
   "metadata": {},
   "outputs": [],
   "source": [
    "df = df.drop('id', 'Age')"
   ]
  },
  {
   "cell_type": "code",
   "execution_count": null,
   "id": "15a1c9bd",
   "metadata": {},
   "outputs": [],
   "source": [
    "df = df.withColumn('Inflight wifi service',df['Inflight wifi service'].cast('string'))\n",
    "df = df.withColumn('Ease of Online booking',df['Ease of Online booking'].cast('string'))\n",
    "df = df.withColumn('Gate location',df['Gate location'].cast('string'))\n",
    "df = df.withColumn('Food and drink',df['Food and drink'].cast('string'))\n",
    "df = df.withColumn('Online boarding',df['Online boarding'].cast('string'))\n",
    "df = df.withColumn('Seat comfort',df['Seat comfort'].cast('string'))\n",
    "df = df.withColumn('Inflight entertainment',\n",
    "                                         df['Inflight entertainment'].cast('string'))\n",
    "df = df.withColumn('On-board service',df['On-board service'].cast('string'))\n",
    "df = df.withColumn('Leg room service',df['Leg room service'].cast('string'))\n",
    "df = df.withColumn('Baggage handling',df['Baggage handling'].cast('string'))\n",
    "df = df.withColumn('Checkin service',df['Checkin service'].cast('string'))                                                                          \n",
    "df = df.withColumn('Inflight service',df['Inflight service'].cast('string'))                                                                          \n",
    "df = df.withColumn('Cleanliness',df['Cleanliness'].cast('string'))    \n",
    "df = df.withColumn('Departure/Arrival time convenient',\n",
    "                                         df['Departure/Arrival time convenient'].cast('string'))  "
   ]
  },
  {
   "cell_type": "code",
   "execution_count": null,
   "id": "22862080",
   "metadata": {},
   "outputs": [],
   "source": [
    "from pyspark.sql.functions import isnan,when,count,col\n",
    "df = df.count()\n",
    "df.select([count(when(isnan(c)| col(c).isNull(),c)).alias(c) for c in df.columns]).show()\n"
   ]
  },
  {
   "cell_type": "code",
   "execution_count": null,
   "id": "0b9b6b2f",
   "metadata": {},
   "outputs": [],
   "source": [
    "import pyspark.sql.functions as f\n",
    "from pyspark.sql.types import *\n",
    "def DepartureDelayRemark(value):\n",
    "    if   value <= 45: \n",
    "        return '0'\n",
    "    elif value > 45:\n",
    "        return '1'"
   ]
  },
  {
   "cell_type": "code",
   "execution_count": null,
   "id": "d891a560",
   "metadata": {},
   "outputs": [],
   "source": [
    "depart= f.udf(DepartureDelayRemark,StringType())\n",
    "df = df.withColumn('Departure_Delay', \n",
    "                                         depart('Departure Delay in Minutes'))\n"
   ]
  },
  {
   "cell_type": "code",
   "execution_count": null,
   "id": "31c18319",
   "metadata": {},
   "outputs": [],
   "source": [
    "def ArrivalDelayRemark(value):\n",
    "    if   value <= 45: \n",
    "        return '0'\n",
    "    elif value > 45:\n",
    "        return '1'"
   ]
  },
  {
   "cell_type": "code",
   "execution_count": null,
   "id": "164b4354",
   "metadata": {},
   "outputs": [],
   "source": [
    "Arrival= f.udf(ArrivalDelayRemark,StringType())\n",
    "df = df.withColumn('Arrival_Delay', Arrival('Arrival Delay in Minutes'))"
   ]
  },
  {
   "cell_type": "code",
   "execution_count": null,
   "id": "d92e8633",
   "metadata": {},
   "outputs": [],
   "source": [
    "df = df.withColumn('satisfaction', \n",
    "                                       f.when(f.col('satisfaction') == 'satisfied', '1')\n",
    "                                       .otherwise('0'))"
   ]
  },
  {
   "cell_type": "code",
   "execution_count": null,
   "id": "ce843f2e",
   "metadata": {},
   "outputs": [],
   "source": [
    "print(np.array(df.select('Gender').distinct().collect()).flatten())\n",
    "print(np.array(df.select('Customer Type').distinct().collect()).flatten())\n",
    "print(np.array(df.select('Type of Travel').distinct().collect()).flatten())\n",
    "print(np.array(df.select('Class').distinct().collect()).flatten())"
   ]
  },
  {
   "cell_type": "code",
   "execution_count": null,
   "id": "a08187be",
   "metadata": {},
   "outputs": [],
   "source": [
    "df = df.withColumnRenamed(\"Customer Type\",\"Customer_Type\") \\\n",
    "    .withColumnRenamed(\"Type of Travel\",\"Type_of_Travel\")\n"
   ]
  },
  {
   "cell_type": "code",
   "execution_count": null,
   "id": "52cf569a",
   "metadata": {},
   "outputs": [],
   "source": [
    "df = df.withColumn('Gender', \n",
    "                                       f.when(f.col('Gender') == 'Female', '1')\n",
    "                                       .otherwise('0'))"
   ]
  },
  {
   "cell_type": "code",
   "execution_count": null,
   "id": "0e789bdb",
   "metadata": {},
   "outputs": [],
   "source": [
    "df = df.withColumn('Customer_Type', \n",
    "                                       f.when(f.col('Customer_Type') == 'Loyal Customer', '1')\n",
    "                                       .otherwise('0'))"
   ]
  },
  {
   "cell_type": "code",
   "execution_count": null,
   "id": "f4ad4b72",
   "metadata": {},
   "outputs": [],
   "source": [
    "df = df.withColumn('Type_of_Travel', \n",
    "                                       f.when(f.col('Type_of_Travel') == 'Personal Travel',\n",
    "                                              '1').otherwise('0'))"
   ]
  },
  {
   "cell_type": "code",
   "execution_count": null,
   "id": "932ae9e0",
   "metadata": {},
   "outputs": [],
   "source": [
    "from pyspark.ml.feature import StringIndexer"
   ]
  },
  {
   "cell_type": "code",
   "execution_count": null,
   "id": "adcdb63b",
   "metadata": {},
   "outputs": [],
   "source": [
    "def Class_reclassify(x):\n",
    "    if x == 'Eco':\n",
    "        return '0'\n",
    "    if x == 'Eco Plus':\n",
    "        return '1'\n",
    "    if x == 'Business':\n",
    "        return '2'"
   ]
  },
  {
   "cell_type": "code",
   "execution_count": null,
   "id": "11eedc74",
   "metadata": {},
   "outputs": [],
   "source": [
    "class_re = f.udf(Class_reclassify,StringType())\n",
    "df = df.withColumn('Class',class_re('Class'))"
   ]
  },
  {
   "cell_type": "code",
   "execution_count": null,
   "id": "11ca825c",
   "metadata": {},
   "outputs": [],
   "source": [
    "df.write.csv('textdata.csv')"
   ]
  },
  {
   "cell_type": "code",
   "execution_count": null,
   "id": "b10531f1",
   "metadata": {},
   "outputs": [],
   "source": []
  },
  {
   "cell_type": "code",
   "execution_count": null,
   "id": "cea95087",
   "metadata": {},
   "outputs": [],
   "source": []
  }
 ],
 "metadata": {
  "kernelspec": {
   "display_name": "Python 3 (ipykernel)",
   "language": "python",
   "name": "python3"
  },
  "language_info": {
   "codemirror_mode": {
    "name": "ipython",
    "version": 3
   },
   "file_extension": ".py",
   "mimetype": "text/x-python",
   "name": "python",
   "nbconvert_exporter": "python",
   "pygments_lexer": "ipython3",
   "version": "3.10.4"
  }
 },
 "nbformat": 4,
 "nbformat_minor": 5
}
